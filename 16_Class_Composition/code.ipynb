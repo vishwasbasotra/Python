{
 "cells": [
  {
   "cell_type": "code",
   "execution_count": 1,
   "metadata": {},
   "outputs": [],
   "source": [
    "class BookShelf:\n",
    "    def __init__(self, *books):\n",
    "        self.books = books\n",
    "    def __str__(self):\n",
    "        return 'Bookshelf have {b} books.'.format(b=len(self.books))"
   ]
  },
  {
   "cell_type": "code",
   "execution_count": 2,
   "metadata": {},
   "outputs": [
    {
     "name": "stdout",
     "output_type": "stream",
     "text": [
      "Bookshelf have 2 books.\n",
      "Book 'Harry Potter'\n",
      "Book 'Game fo Thrones'\n"
     ]
    }
   ],
   "source": [
    "class Book:\n",
    "    def __init__(self,name):\n",
    "        self.name = name\n",
    "    def __str__(self):\n",
    "        return 'Book {n!r}'.format(n=self.name)\n",
    "book1 = Book('Harry Potter')\n",
    "book2 = Book('Game fo Thrones')\n",
    "shelf = BookShelf(book1,book2)\n",
    "print(shelf)\n",
    "print(book1)\n",
    "print(book2)"
   ]
  }
 ],
 "metadata": {
  "kernelspec": {
   "display_name": "Python 3",
   "language": "python",
   "name": "python3"
  },
  "language_info": {
   "codemirror_mode": {
    "name": "ipython",
    "version": 3
   },
   "file_extension": ".py",
   "mimetype": "text/x-python",
   "name": "python",
   "nbconvert_exporter": "python",
   "pygments_lexer": "ipython3",
   "version": "3.7.7"
  }
 },
 "nbformat": 4,
 "nbformat_minor": 4
}
