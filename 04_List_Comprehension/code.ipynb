{
 "cells": [
  {
   "cell_type": "code",
   "execution_count": 1,
   "metadata": {},
   "outputs": [
    {
     "name": "stdout",
     "output_type": "stream",
     "text": [
      "[2, 4, 6]\n"
     ]
    }
   ],
   "source": [
    "numbers = [1,2,3]\n",
    "doubled = [num * 2 for num in numbers]\n",
    "print(doubled)"
   ]
  },
  {
   "cell_type": "code",
   "execution_count": 2,
   "metadata": {},
   "outputs": [
    {
     "name": "stdout",
     "output_type": "stream",
     "text": [
      "['sam', 'samantha', 'saurabh']\n"
     ]
    }
   ],
   "source": [
    "friends = ['rolf','sam','samantha','saurabh','jen']\n",
    "starts_s = [friend for friend in friends if friend[0] == 's']\n",
    "print(starts_s)"
   ]
  },
  {
   "cell_type": "code",
   "execution_count": 3,
   "metadata": {},
   "outputs": [
    {
     "name": "stdout",
     "output_type": "stream",
     "text": [
      "['sam', 'samantha', 'saurabh']\n",
      "['sam', 'samantha', 'saurabh']\n",
      "False\n",
      "True\n"
     ]
    }
   ],
   "source": [
    "friends = ['sam','samantha','saurabh']\n",
    "starts_s = [friend for friend in friends if friend[0] == 's']\n",
    "print(friends)\n",
    "print(starts_s)\n",
    "print(friends is starts_s)\n",
    "print(friends == starts_s)"
   ]
  },
  {
   "cell_type": "code",
   "execution_count": 4,
   "metadata": {},
   "outputs": [
    {
     "name": "stdout",
     "output_type": "stream",
     "text": [
      "\n",
      "\n",
      "Friends:  1885083186056 Starts_S:  1885083180488\n",
      "Friends[0]:  1885049944368 Starts_S[0]:  1885049944368\n"
     ]
    }
   ],
   "source": [
    "print('\\n\\nFriends: ',id(friends),'Starts_S: ', id(starts_s))\n",
    "print('Friends[0]: ',id(friends[0]),'Starts_S[0]: ', id(starts_s[0]))"
   ]
  },
  {
   "cell_type": "code",
   "execution_count": null,
   "metadata": {},
   "outputs": [],
   "source": []
  }
 ],
 "metadata": {
  "kernelspec": {
   "display_name": "Python 3",
   "language": "python",
   "name": "python3"
  },
  "language_info": {
   "codemirror_mode": {
    "name": "ipython",
    "version": 3
   },
   "file_extension": ".py",
   "mimetype": "text/x-python",
   "name": "python",
   "nbconvert_exporter": "python",
   "pygments_lexer": "ipython3",
   "version": "3.7.7"
  }
 },
 "nbformat": 4,
 "nbformat_minor": 4
}
