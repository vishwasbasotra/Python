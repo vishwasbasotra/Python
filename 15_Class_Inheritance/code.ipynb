{
 "cells": [
  {
   "cell_type": "code",
   "execution_count": 1,
   "metadata": {},
   "outputs": [
    {
     "name": "stdout",
     "output_type": "stream",
     "text": [
      "Device 'Printer' connected by ('USB')\n",
      "Disconnected\n",
      "None\n"
     ]
    }
   ],
   "source": [
    "class Device:\n",
    "    def __init__(self,name,connected_by):\n",
    "        self.name = name\n",
    "        self.connected_by = connected_by\n",
    "        self.connected = True\n",
    "    def __str__(self):\n",
    "        return 'Device {n!r} connected by ({cb!r})'.format(n=self.name,cb=self.connected_by)\n",
    "    def disconnect(self):\n",
    "        self.connected = False\n",
    "        print('Disconnected')\n",
    "printer = Device('Printer','USB')\n",
    "print(printer)\n",
    "print(printer.disconnect())"
   ]
  },
  {
   "cell_type": "code",
   "execution_count": 2,
   "metadata": {},
   "outputs": [
    {
     "name": "stdout",
     "output_type": "stream",
     "text": [
      "Printing 40 pages.\n",
      "Device 'HP Printer' connected by ('USB') (460) pages remaining\n",
      "Disconnected\n"
     ]
    }
   ],
   "source": [
    "class Printer(Device):\n",
    "    def __init__(self,name,connected_by,capacity):\n",
    "        super().__init__(name,connected_by)\n",
    "        self.capacity = capacity\n",
    "        self.remaining_pages = capacity\n",
    "    def __str__(self):\n",
    "        return '{ss} ({rp}) pages remaining'.format(ss = super().__str__(),rp=self.remaining_pages)\n",
    "    def print(self,pages):\n",
    "        if not self.connected:\n",
    "            return 'Your printer is not connected'\n",
    "        print('Printing {p} pages.'.format(p=pages))\n",
    "        self.remaining_pages -= pages\n",
    "\n",
    "printer = Printer('HP Printer','USB',500)\n",
    "printer.print(40)\n",
    "print(printer)\n",
    "printer.disconnect()"
   ]
  },
  {
   "cell_type": "code",
   "execution_count": 3,
   "metadata": {},
   "outputs": [
    {
     "data": {
      "text/plain": [
       "'Your printer is not connected'"
      ]
     },
     "execution_count": 3,
     "metadata": {},
     "output_type": "execute_result"
    }
   ],
   "source": [
    "printer.print(30)"
   ]
  }
 ],
 "metadata": {
  "kernelspec": {
   "display_name": "Python 3",
   "language": "python",
   "name": "python3"
  },
  "language_info": {
   "codemirror_mode": {
    "name": "ipython",
    "version": 3
   },
   "file_extension": ".py",
   "mimetype": "text/x-python",
   "name": "python",
   "nbconvert_exporter": "python",
   "pygments_lexer": "ipython3",
   "version": "3.7.7"
  }
 },
 "nbformat": 4,
 "nbformat_minor": 4
}
