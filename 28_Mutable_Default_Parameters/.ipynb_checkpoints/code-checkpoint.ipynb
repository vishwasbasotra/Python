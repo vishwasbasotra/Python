{
 "cells": [
  {
   "cell_type": "code",
   "execution_count": 1,
   "metadata": {},
   "outputs": [],
   "source": [
    "from typing import List"
   ]
  },
  {
   "cell_type": "code",
   "execution_count": 2,
   "metadata": {},
   "outputs": [
    {
     "name": "stdout",
     "output_type": "stream",
     "text": [
      "[75]\n"
     ]
    }
   ],
   "source": [
    "class Student:\n",
    "    \n",
    "    def __init__(self,name: str,grades: List[int] = []):  # this are bad\n",
    "        self.name = name\n",
    "        self.grades = grades\n",
    "        \n",
    "    def take_exam(self,result: int):\n",
    "        self.grades.append(result)\n",
    "\n",
    "student1 = Student('bob')\n",
    "student1.take_exam(75)\n",
    "\n",
    "print(student1.grades)"
   ]
  },
  {
   "cell_type": "code",
   "execution_count": 3,
   "metadata": {},
   "outputs": [
    {
     "name": "stdout",
     "output_type": "stream",
     "text": [
      "[75]\n"
     ]
    }
   ],
   "source": [
    "student2 = Student('roth')\n",
    "print(student2.grades)"
   ]
  },
  {
   "cell_type": "code",
   "execution_count": 4,
   "metadata": {},
   "outputs": [
    {
     "name": "stdout",
     "output_type": "stream",
     "text": [
      "[75]\n",
      "[]\n"
     ]
    }
   ],
   "source": [
    "from typing import Optional\n",
    "class Student:\n",
    "    \n",
    "    def __init__(self,name: str,grades: Optional[List[int]] = None):\n",
    "        self.name = name\n",
    "        self.grades = grades or []\n",
    "        \n",
    "    def take_exam(self,result: int):\n",
    "        self.grades.append(result)\n",
    "\n",
    "student1 = Student('bob')\n",
    "student2 = Student('roth')\n",
    "\n",
    "student1.take_exam(75)\n",
    "\n",
    "print(student1.grades)\n",
    "print(student2.grades)"
   ]
  }
 ],
 "metadata": {
  "kernelspec": {
   "display_name": "Python 3",
   "language": "python",
   "name": "python3"
  },
  "language_info": {
   "codemirror_mode": {
    "name": "ipython",
    "version": 3
   },
   "file_extension": ".py",
   "mimetype": "text/x-python",
   "name": "python",
   "nbconvert_exporter": "python",
   "pygments_lexer": "ipython3",
   "version": "3.7.7"
  }
 },
 "nbformat": 4,
 "nbformat_minor": 4
}
