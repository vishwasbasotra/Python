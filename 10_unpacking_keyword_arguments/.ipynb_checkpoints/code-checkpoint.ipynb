{
 "cells": [
  {
   "cell_type": "code",
   "execution_count": 1,
   "metadata": {},
   "outputs": [
    {
     "name": "stdout",
     "output_type": "stream",
     "text": [
      "{'name': 'bob', 'age': 25}\n"
     ]
    }
   ],
   "source": [
    "def name(**kwargs):\n",
    "    print(kwargs)\n",
    "name(name='bob',age=25)"
   ]
  },
  {
   "cell_type": "code",
   "execution_count": 2,
   "metadata": {},
   "outputs": [
    {
     "name": "stdout",
     "output_type": "stream",
     "text": [
      "bob \n",
      " 24\n"
     ]
    }
   ],
   "source": [
    "def named(name, age):\n",
    "    print(name,'\\n',age)\n",
    "details = {'name':'bob','age':24}\n",
    "named(**details)"
   ]
  },
  {
   "cell_type": "code",
   "execution_count": 3,
   "metadata": {},
   "outputs": [
    {
     "name": "stdout",
     "output_type": "stream",
     "text": [
      "{'name': 'bob', 'age': 24}\n"
     ]
    }
   ],
   "source": [
    "def named(**kwargs):\n",
    "    print(kwargs)\n",
    "details = {'name':'bob','age':24}\n",
    "named(**details)"
   ]
  },
  {
   "cell_type": "code",
   "execution_count": 4,
   "metadata": {},
   "outputs": [
    {
     "name": "stdout",
     "output_type": "stream",
     "text": [
      "{'name': 'bob', 'age': 24}\n",
      "name: bob.\n",
      "age: 24.\n"
     ]
    }
   ],
   "source": [
    "def named(**kwargs):\n",
    "    print(kwargs)\n",
    "\n",
    "def print_nicely(**kwargs):\n",
    "    named(**kwargs)\n",
    "    \n",
    "    for arg,value in kwargs.items():\n",
    "        print('{n}: {y}.'.format(n=arg,y=value))\n",
    "\n",
    "details = {'name':'bob','age':24}\n",
    "print_nicely(**details)"
   ]
  },
  {
   "cell_type": "code",
   "execution_count": 5,
   "metadata": {},
   "outputs": [
    {
     "name": "stdout",
     "output_type": "stream",
     "text": [
      "(1, 2, 3, 4, 5)\n",
      "{'name': 'bob', 'age': 24}\n"
     ]
    }
   ],
   "source": [
    "def both(*args, **kwargs):\n",
    "    print(args)\n",
    "    print(kwargs)\n",
    "details = {'name':'bob','age':24}\n",
    "both(1,2,3,4,5,**details)"
   ]
  }
 ],
 "metadata": {
  "kernelspec": {
   "display_name": "Python 3",
   "language": "python",
   "name": "python3"
  },
  "language_info": {
   "codemirror_mode": {
    "name": "ipython",
    "version": 3
   },
   "file_extension": ".py",
   "mimetype": "text/x-python",
   "name": "python",
   "nbconvert_exporter": "python",
   "pygments_lexer": "ipython3",
   "version": "3.7.7"
  }
 },
 "nbformat": 4,
 "nbformat_minor": 4
}
