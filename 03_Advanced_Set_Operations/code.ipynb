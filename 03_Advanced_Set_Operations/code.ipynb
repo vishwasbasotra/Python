{
 "cells": [
  {
   "cell_type": "code",
   "execution_count": 1,
   "metadata": {},
   "outputs": [],
   "source": [
    "friends = {'bob','rolf','anne'}\n",
    "abroad = {'bob','anne'}"
   ]
  },
  {
   "cell_type": "code",
   "execution_count": 2,
   "metadata": {},
   "outputs": [
    {
     "name": "stdout",
     "output_type": "stream",
     "text": [
      "{'rolf'}\n"
     ]
    }
   ],
   "source": [
    "local_friends = friends.difference(abroad)\n",
    "print(local_friends)"
   ]
  },
  {
   "cell_type": "code",
   "execution_count": 3,
   "metadata": {},
   "outputs": [
    {
     "name": "stdout",
     "output_type": "stream",
     "text": [
      "set()\n"
     ]
    }
   ],
   "source": [
    "local_friends = abroad.difference(friends)\n",
    "print(local_friends)"
   ]
  },
  {
   "cell_type": "code",
   "execution_count": 4,
   "metadata": {},
   "outputs": [
    {
     "name": "stdout",
     "output_type": "stream",
     "text": [
      "{'bob', 'anne', 'rolf'}\n"
     ]
    }
   ],
   "source": [
    "local = {'rolf'}\n",
    "abroad = {'bob','anne'}\n",
    "\n",
    "friends = local.union(abroad)\n",
    "print(friends)"
   ]
  },
  {
   "cell_type": "code",
   "execution_count": 5,
   "metadata": {},
   "outputs": [
    {
     "name": "stdout",
     "output_type": "stream",
     "text": [
      "{'jen', 'bob'}\n"
     ]
    }
   ],
   "source": [
    "arts = {'bob','jen','rolf','anne'}\n",
    "science = {'bob','jen','adam','charlie'}\n",
    "\n",
    "friends = arts.intersection(science)\n",
    "print(friends)"
   ]
  }
 ],
 "metadata": {
  "kernelspec": {
   "display_name": "Python 3",
   "language": "python",
   "name": "python3"
  },
  "language_info": {
   "codemirror_mode": {
    "name": "ipython",
    "version": 3
   },
   "file_extension": ".py",
   "mimetype": "text/x-python",
   "name": "python",
   "nbconvert_exporter": "python",
   "pygments_lexer": "ipython3",
   "version": "3.7.7"
  }
 },
 "nbformat": 4,
 "nbformat_minor": 4
}
