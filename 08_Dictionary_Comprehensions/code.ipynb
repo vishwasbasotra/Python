{
 "cells": [
  {
   "cell_type": "code",
   "execution_count": 1,
   "metadata": {},
   "outputs": [],
   "source": [
    "users = [(0,'bob','password'),\n",
    "         (1,'rolf','bob123'),\n",
    "         (2,'jose','longpassword'),\n",
    "         (3,'username','1234')\n",
    "        ]"
   ]
  },
  {
   "cell_type": "code",
   "execution_count": 2,
   "metadata": {},
   "outputs": [
    {
     "data": {
      "text/plain": [
       "{'bob': (0, 'bob', 'password'),\n",
       " 'rolf': (1, 'rolf', 'bob123'),\n",
       " 'jose': (2, 'jose', 'longpassword'),\n",
       " 'username': (3, 'username', '1234')}"
      ]
     },
     "execution_count": 2,
     "metadata": {},
     "output_type": "execute_result"
    }
   ],
   "source": [
    "username_mapping = {user[1]: user for user in users}\n",
    "username_mapping"
   ]
  },
  {
   "cell_type": "code",
   "execution_count": 3,
   "metadata": {},
   "outputs": [
    {
     "name": "stdout",
     "output_type": "stream",
     "text": [
      "Enter your username: bob\n",
      "Enter your password: password\n"
     ]
    }
   ],
   "source": [
    "username_input = input('Enter your username: ')\n",
    "password_input = input('Enter your password: ')"
   ]
  },
  {
   "cell_type": "code",
   "execution_count": 4,
   "metadata": {},
   "outputs": [
    {
     "name": "stdout",
     "output_type": "stream",
     "text": [
      "Login Successfully\n"
     ]
    }
   ],
   "source": [
    "_,username,password = username_mapping[username_input]\n",
    "\n",
    "if password_input == password:\n",
    "    print('Login Successfully')\n",
    "else:\n",
    "    print('Wrong Credentials')"
   ]
  }
 ],
 "metadata": {
  "kernelspec": {
   "display_name": "Python 3",
   "language": "python",
   "name": "python3"
  },
  "language_info": {
   "codemirror_mode": {
    "name": "ipython",
    "version": 3
   },
   "file_extension": ".py",
   "mimetype": "text/x-python",
   "name": "python",
   "nbconvert_exporter": "python",
   "pygments_lexer": "ipython3",
   "version": "3.7.7"
  }
 },
 "nbformat": 4,
 "nbformat_minor": 4
}
