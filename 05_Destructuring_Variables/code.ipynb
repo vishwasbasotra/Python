{
 "cells": [
  {
   "cell_type": "code",
   "execution_count": 1,
   "metadata": {},
   "outputs": [
    {
     "name": "stdout",
     "output_type": "stream",
     "text": [
      "5 11 \n",
      "\n"
     ]
    }
   ],
   "source": [
    "x = 5,11\n",
    "a, b = x\n",
    "print(a,b,'\\n')"
   ]
  },
  {
   "cell_type": "code",
   "execution_count": 2,
   "metadata": {},
   "outputs": [
    {
     "name": "stdout",
     "output_type": "stream",
     "text": [
      "rolf:96\n",
      "bob:80\n",
      "anne:100\n"
     ]
    }
   ],
   "source": [
    "student_attendence = {'rolf':96,'bob':80,'anne':100}\n",
    "\n",
    "for student,attendence in student_attendence.items():\n",
    "    print('{}:{}'.format(student,attendence))"
   ]
  },
  {
   "cell_type": "code",
   "execution_count": 3,
   "metadata": {},
   "outputs": [
    {
     "name": "stdout",
     "output_type": "stream",
     "text": [
      "bob is 42 years old, working as mechanic\n",
      "james is 24 years old, working as artist\n",
      "harry is 30 years old, working as lecturer\n"
     ]
    }
   ],
   "source": [
    "people = [('bob',42,'mechanic'),('james',24,'artist'),('harry',30,'lecturer')]\n",
    "for name,age,profession in people:\n",
    "    print('{n} is {a} years old, working as {p}'.format(n=name,a=age,p=profession))"
   ]
  },
  {
   "cell_type": "markdown",
   "metadata": {},
   "source": [
    "### _ is used when you don't want to use a value"
   ]
  },
  {
   "cell_type": "code",
   "execution_count": 4,
   "metadata": {},
   "outputs": [
    {
     "name": "stdout",
     "output_type": "stream",
     "text": [
      "bob :  mechanic\n"
     ]
    }
   ],
   "source": [
    "person = ('bob',42,'mechanic')\n",
    "name, _, profession = person\n",
    "print(name,': ',profession)"
   ]
  },
  {
   "cell_type": "code",
   "execution_count": 5,
   "metadata": {},
   "outputs": [
    {
     "name": "stdout",
     "output_type": "stream",
     "text": [
      "1\n",
      "[2, 3, 4, 5]\n"
     ]
    }
   ],
   "source": [
    "head, *tail = [1,2,3,4,5]\n",
    "print(head)\n",
    "print(tail)"
   ]
  },
  {
   "cell_type": "code",
   "execution_count": 6,
   "metadata": {},
   "outputs": [
    {
     "name": "stdout",
     "output_type": "stream",
     "text": [
      "\n",
      " [1, 2, 3, 4]\n",
      "5\n"
     ]
    }
   ],
   "source": [
    "*head, tail = [1,2,3,4,5]\n",
    "print('\\n',head)\n",
    "print(tail)"
   ]
  }
 ],
 "metadata": {
  "kernelspec": {
   "display_name": "Python 3",
   "language": "python",
   "name": "python3"
  },
  "language_info": {
   "codemirror_mode": {
    "name": "ipython",
    "version": 3
   },
   "file_extension": ".py",
   "mimetype": "text/x-python",
   "name": "python",
   "nbconvert_exporter": "python",
   "pygments_lexer": "ipython3",
   "version": "3.7.7"
  }
 },
 "nbformat": 4,
 "nbformat_minor": 4
}
