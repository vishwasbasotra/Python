{
 "cells": [
  {
   "cell_type": "markdown",
   "metadata": {},
   "source": [
    "### instance_method()"
   ]
  },
  {
   "cell_type": "code",
   "execution_count": 1,
   "metadata": {},
   "outputs": [
    {
     "name": "stdout",
     "output_type": "stream",
     "text": [
      "\"Called instance_method of <__main__.ClassTest object at 0x000001CF6DC93108>\"\n",
      "None\n"
     ]
    }
   ],
   "source": [
    "class ClassTest:\n",
    "    def instance_method(self):\n",
    "        print('\"Called instance_method of {s}\"'.format(s=self))\n",
    "\n",
    "test = ClassTest()\n",
    "print(test.instance_method())"
   ]
  },
  {
   "cell_type": "markdown",
   "metadata": {},
   "source": [
    "### @classmethod"
   ]
  },
  {
   "cell_type": "code",
   "execution_count": 2,
   "metadata": {},
   "outputs": [
    {
     "name": "stdout",
     "output_type": "stream",
     "text": [
      "\"Called class_method of <class '__main__.ClassTest'>\"\n"
     ]
    }
   ],
   "source": [
    "class ClassTest:\n",
    "    @classmethod\n",
    "    def class_method(cls):\n",
    "        print('\"Called class_method of {s}\"'.format(s=cls))\n",
    "\n",
    "ClassTest.class_method()"
   ]
  },
  {
   "cell_type": "markdown",
   "metadata": {},
   "source": [
    "### @staticmethod"
   ]
  },
  {
   "cell_type": "code",
   "execution_count": 3,
   "metadata": {},
   "outputs": [
    {
     "name": "stdout",
     "output_type": "stream",
     "text": [
      "\"Called static_method.\"\n"
     ]
    }
   ],
   "source": [
    "class ClassTest:\n",
    "    @staticmethod\n",
    "    def static_method():\n",
    "        print('\"Called static_method.\"')\n",
    "\n",
    "ClassTest.static_method()"
   ]
  },
  {
   "cell_type": "code",
   "execution_count": 4,
   "metadata": {},
   "outputs": [
    {
     "name": "stdout",
     "output_type": "stream",
     "text": [
      "Harry Potter\n"
     ]
    }
   ],
   "source": [
    "class Book:\n",
    "    types = ('hardcover','paperback')\n",
    "    \n",
    "    def __init__(self,name,book_type,weight):\n",
    "        self.name = name\n",
    "        self.book_type = book_type\n",
    "        self.weight = weight\n",
    "\n",
    "book = Book('Harry Potter', 'hardcover', 1500)\n",
    "print(book.name)"
   ]
  },
  {
   "cell_type": "markdown",
   "metadata": {},
   "source": [
    "### Example:"
   ]
  },
  {
   "cell_type": "code",
   "execution_count": 5,
   "metadata": {},
   "outputs": [
    {
     "name": "stdout",
     "output_type": "stream",
     "text": [
      "<Book Harry Potter,hardcover, weighing 1600g.>\n",
      "<Book Data Science,paperback, weighing 1300g.>\n"
     ]
    }
   ],
   "source": [
    "class Book:\n",
    "    types = ('hardcover','paperback')\n",
    "    \n",
    "    def __init__(self,name,book_type,weight):\n",
    "        self.name = name\n",
    "        self.book_type = book_type\n",
    "        self.weight = weight\n",
    "    \n",
    "    def __repr__(self):\n",
    "        return '<Book {n},{t}, weighing {w}g.>'.format(n=self.name,t=self.book_type,w=self.weight)\n",
    "    \n",
    "    @classmethod\n",
    "    def hardcover(cls,name,page_weight):\n",
    "        return Book(name, Book.types[0],page_weight + 100)\n",
    "    \n",
    "    @classmethod\n",
    "    def paperback(cls,name,page_weight):\n",
    "        return Book(name,Book.types[1],page_weight)\n",
    "    \n",
    "book = Book.hardcover(\"Harry Potter\", 1500)\n",
    "light = Book.paperback(\"Data Science\", 1300)\n",
    "print(book)\n",
    "print(light)"
   ]
  }
 ],
 "metadata": {
  "kernelspec": {
   "display_name": "Python 3",
   "language": "python",
   "name": "python3"
  },
  "language_info": {
   "codemirror_mode": {
    "name": "ipython",
    "version": 3
   },
   "file_extension": ".py",
   "mimetype": "text/x-python",
   "name": "python",
   "nbconvert_exporter": "python",
   "pygments_lexer": "ipython3",
   "version": "3.7.7"
  }
 },
 "nbformat": 4,
 "nbformat_minor": 4
}
