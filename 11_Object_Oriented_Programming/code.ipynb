{
 "cells": [
  {
   "cell_type": "code",
   "execution_count": 1,
   "metadata": {},
   "outputs": [],
   "source": [
    "student = {'name':'jose','grades':(89,90,76,82,93)}"
   ]
  },
  {
   "cell_type": "code",
   "execution_count": 2,
   "metadata": {},
   "outputs": [
    {
     "data": {
      "text/plain": [
       "86.0"
      ]
     },
     "execution_count": 2,
     "metadata": {},
     "output_type": "execute_result"
    }
   ],
   "source": [
    "def avg(sequence):\n",
    "    return sum(sequence)/len(sequence)\n",
    "avg(student['grades'])"
   ]
  },
  {
   "cell_type": "markdown",
   "metadata": {},
   "source": [
    "### Constructor function without arguements"
   ]
  },
  {
   "cell_type": "code",
   "execution_count": 3,
   "metadata": {},
   "outputs": [],
   "source": [
    "class Student:\n",
    "    def __init__(self):\n",
    "        self.name = 'roth'\n",
    "        self.grades = (89,90,76,82,93)\n",
    "    \n",
    "    def avg_grade(self):\n",
    "        return sum(self.grades)/len(self.grades)\n",
    "\n",
    "student = Student()"
   ]
  },
  {
   "cell_type": "code",
   "execution_count": 4,
   "metadata": {},
   "outputs": [
    {
     "name": "stdout",
     "output_type": "stream",
     "text": [
      "roth\n",
      "(89, 90, 76, 82, 93)\n"
     ]
    }
   ],
   "source": [
    "print(student.name)\n",
    "print(student.grades)"
   ]
  },
  {
   "cell_type": "code",
   "execution_count": 5,
   "metadata": {},
   "outputs": [
    {
     "name": "stdout",
     "output_type": "stream",
     "text": [
      "86.0\n"
     ]
    }
   ],
   "source": [
    "print(student.avg_grade())"
   ]
  },
  {
   "cell_type": "markdown",
   "metadata": {},
   "source": [
    "### Constructor function with arguements"
   ]
  },
  {
   "cell_type": "code",
   "execution_count": 6,
   "metadata": {},
   "outputs": [],
   "source": [
    "class Student:\n",
    "    def __init__(self,name,grades):\n",
    "        self.name = name\n",
    "        self.grades = grades\n",
    "    \n",
    "    def avg_grade(self):\n",
    "        return sum(self.grades)/len(self.grades)\n",
    "\n",
    "student1 = Student('roth',(89,90,76,82,93))\n",
    "student2 = Student('bob',(57,87,69,90,79))"
   ]
  },
  {
   "cell_type": "code",
   "execution_count": 7,
   "metadata": {},
   "outputs": [
    {
     "name": "stdout",
     "output_type": "stream",
     "text": [
      "roth\n",
      "(89, 90, 76, 82, 93)\n",
      "86.0\n"
     ]
    }
   ],
   "source": [
    "print(student1.name)\n",
    "print(student1.grades)\n",
    "print(student1.avg_grade())"
   ]
  },
  {
   "cell_type": "code",
   "execution_count": 8,
   "metadata": {},
   "outputs": [
    {
     "name": "stdout",
     "output_type": "stream",
     "text": [
      "bob\n",
      "(57, 87, 69, 90, 79)\n",
      "76.4\n"
     ]
    }
   ],
   "source": [
    "print(student2.name)\n",
    "print(student2.grades)\n",
    "print(student2.avg_grade())"
   ]
  }
 ],
 "metadata": {
  "kernelspec": {
   "display_name": "Python 3",
   "language": "python",
   "name": "python3"
  },
  "language_info": {
   "codemirror_mode": {
    "name": "ipython",
    "version": 3
   },
   "file_extension": ".py",
   "mimetype": "text/x-python",
   "name": "python",
   "nbconvert_exporter": "python",
   "pygments_lexer": "ipython3",
   "version": "3.7.7"
  }
 },
 "nbformat": 4,
 "nbformat_minor": 4
}
